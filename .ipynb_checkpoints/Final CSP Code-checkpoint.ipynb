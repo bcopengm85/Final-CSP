{
 "cells": [
  {
   "cell_type": "code",
   "execution_count": null,
   "metadata": {
    "collapsed": true
   },
   "outputs": [],
   "source": [
    "#Install box\n",
    "#This box will install anything that needs installing"
   ]
  },
  {
   "cell_type": "code",
   "execution_count": 13,
   "metadata": {
    "collapsed": true
   },
   "outputs": [],
   "source": [
    "likes1 = []\n",
    "likes2 = []\n",
    "likes3 = []\n",
    "likes4 = []"
   ]
  },
  {
   "cell_type": "code",
   "execution_count": 14,
   "metadata": {},
   "outputs": [
    {
     "name": "stdout",
     "output_type": "stream",
     "text": [
      "Username:finalcsp\n",
      "Password:password\n",
      "Confirm password:password\n",
      "Signup successful! Welcome \n",
      " nothing\n",
      "Set up your profile!\n",
      "Available genres: \n",
      " Pop \n",
      " Rock \n",
      " Dance \n",
      " Country \n",
      " Rap \n",
      " Classical\n",
      "What kinds of music do you like?pop rock dance\n",
      "What do you want your name to be?ben\n"
     ]
    },
    {
     "ename": "NameError",
     "evalue": "global name 'profile1' is not defined",
     "output_type": "error",
     "traceback": [
      "\u001b[1;31m\u001b[0m",
      "\u001b[1;31mNameError\u001b[0mTraceback (most recent call last)",
      "\u001b[1;32m<ipython-input-14-00d8817a6098>\u001b[0m in \u001b[0;36m<module>\u001b[1;34m()\u001b[0m\n\u001b[0;32m     56\u001b[0m \u001b[1;33m\u001b[0m\u001b[0m\n\u001b[0;32m     57\u001b[0m \u001b[1;33m\u001b[0m\u001b[0m\n\u001b[1;32m---> 58\u001b[1;33m \u001b[0msignup\u001b[0m\u001b[1;33m(\u001b[0m\u001b[1;33m)\u001b[0m\u001b[1;33m\u001b[0m\u001b[0m\n\u001b[0m",
      "\u001b[1;32m<ipython-input-14-00d8817a6098>\u001b[0m in \u001b[0;36msignup\u001b[1;34m()\u001b[0m\n\u001b[0;32m     44\u001b[0m         \u001b[1;32mprint\u001b[0m\u001b[1;33m(\u001b[0m\u001b[1;34m\"Signup successful! Welcome \\n\"\u001b[0m\u001b[1;33m,\u001b[0m\u001b[0musername_entry\u001b[0m\u001b[1;33m)\u001b[0m\u001b[1;33m\u001b[0m\u001b[0m\n\u001b[0;32m     45\u001b[0m         \u001b[1;32mprint\u001b[0m\u001b[1;33m(\u001b[0m\u001b[1;34m\"Set up your profile!\"\u001b[0m\u001b[1;33m)\u001b[0m\u001b[1;33m\u001b[0m\u001b[0m\n\u001b[1;32m---> 46\u001b[1;33m         \u001b[0mprofile_setup\u001b[0m\u001b[1;33m(\u001b[0m\u001b[0mfiller\u001b[0m\u001b[1;33m)\u001b[0m\u001b[1;33m\u001b[0m\u001b[0m\n\u001b[0m\u001b[0;32m     47\u001b[0m \u001b[1;33m\u001b[0m\u001b[0m\n\u001b[0;32m     48\u001b[0m \u001b[1;33m\u001b[0m\u001b[0m\n",
      "\u001b[1;32m<ipython-input-11-abf451140202>\u001b[0m in \u001b[0;36mprofile_setup\u001b[1;34m(current_username)\u001b[0m\n\u001b[0;32m     24\u001b[0m     \u001b[0mname_entry\u001b[0m \u001b[1;33m=\u001b[0m \u001b[0mraw_input\u001b[0m\u001b[1;33m(\u001b[0m\u001b[1;34m\"What do you want your name to be?\"\u001b[0m\u001b[1;33m)\u001b[0m\u001b[1;33m\u001b[0m\u001b[0m\n\u001b[0;32m     25\u001b[0m     \u001b[1;32mif\u001b[0m \u001b[0mcurrent_username\u001b[0m \u001b[1;33m==\u001b[0m \u001b[0musername1\u001b[0m\u001b[1;33m:\u001b[0m\u001b[1;33m\u001b[0m\u001b[0m\n\u001b[1;32m---> 26\u001b[1;33m         \u001b[0mprofile1\u001b[0m\u001b[1;33m[\u001b[0m\u001b[1;36m1\u001b[0m\u001b[1;33m]\u001b[0m \u001b[1;33m=\u001b[0m \u001b[0mname_entry\u001b[0m\u001b[1;33m\u001b[0m\u001b[0m\n\u001b[0m\u001b[0;32m     27\u001b[0m     \u001b[1;32melif\u001b[0m \u001b[0mcurrent_username\u001b[0m \u001b[1;33m==\u001b[0m \u001b[0musername2\u001b[0m\u001b[1;33m:\u001b[0m\u001b[1;33m\u001b[0m\u001b[0m\n\u001b[0;32m     28\u001b[0m         \u001b[0mprofile2\u001b[0m\u001b[1;33m[\u001b[0m\u001b[1;36m1\u001b[0m\u001b[1;33m]\u001b[0m \u001b[1;33m=\u001b[0m \u001b[0mname_entry\u001b[0m\u001b[1;33m\u001b[0m\u001b[0m\n",
      "\u001b[1;31mNameError\u001b[0m: global name 'profile1' is not defined"
     ]
    }
   ],
   "source": [
    "#Username and password box\n",
    "#This box will be used for identifying users and their accounts\n",
    "from __future__ import print_function\n",
    "\n",
    "username_entry = \"nothing\"\n",
    "password_entry1 = \"nothing\"\n",
    "password_entry2 = \"nothing\"\n",
    "\n",
    "username1 = \"nothing\"\n",
    "username2 = \"nothing\"\n",
    "username3 = \"nothing\"\n",
    "username4 = \"nothing\"\n",
    "\n",
    "password1 = \"nothing\"\n",
    "password2 = \"nothing\"\n",
    "password3 = \"nothing\"\n",
    "password4 = \"nothing\"\n",
    "\n",
    "profile1 = []\n",
    "profile2 = []\n",
    "profile3 = []\n",
    "profile4 = []\n",
    "\n",
    "def signup():\n",
    "    username_entry = raw_input(\"Username:\")\n",
    "    password_entry1 = raw_input(\"Password:\")\n",
    "    password_entry2 = raw_input(\"Confirm password:\")\n",
    "    if password_entry1 == password_entry2:\n",
    "        if username1 != \"nothing\":\n",
    "            if username2 != \"nothing\":\n",
    "                if username3 != \"nothing\":\n",
    "                    if username4 == \"nothing\":\n",
    "                        username4 = username_entry\n",
    "                        password4 = password_entry1\n",
    "                        profile4.append(username_entry)\n",
    "                else:\n",
    "                    username3 = username_entry\n",
    "                    password3 = password_entry1\n",
    "                    profile3.append(username\n",
    "            else:\n",
    "                username_entry = username2\n",
    "                password_entry1 = password2\n",
    "                filler = username2\n",
    "        else:\n",
    "            username_entry = username1\n",
    "            password_entry1 = password1\n",
    "            filler = username1\n",
    "        \n",
    "        print(\"Signup successful! Welcome \\n\",username_entry)\n",
    "        print(\"Set up your profile!\")   \n",
    "        profile_setup(filler)\n",
    "    \n",
    "\n",
    "def login():\n",
    "    entry_username = raw_input(\"Username:\")\n",
    "    entry_password = raw_input(\"Password:\")\n",
    "    if entry_username == username1 and entry_password == password1:\n",
    "        print(\"Welcome \" + username1)\n",
    "    if entry_username == username2 and entry_password == password2:\n",
    "        print(\"Welcome \" + username2)    \n",
    "        \n",
    "    \n",
    "signup()"
   ]
  },
  {
   "cell_type": "code",
   "execution_count": 11,
   "metadata": {},
   "outputs": [
    {
     "name": "stdout",
     "output_type": "stream",
     "text": [
      "Available genres: \n",
      " Pop \n",
      " Rock \n",
      " Dance \n",
      " Country \n",
      " Rap \n",
      " Classical\n",
      "What kinds of music do you like?pop rock dance\n"
     ]
    },
    {
     "ename": "NameError",
     "evalue": "global name 'username2' is not defined",
     "output_type": "error",
     "traceback": [
      "\u001b[1;31m\u001b[0m",
      "\u001b[1;31mNameError\u001b[0mTraceback (most recent call last)",
      "\u001b[1;32m<ipython-input-11-abf451140202>\u001b[0m in \u001b[0;36m<module>\u001b[1;34m()\u001b[0m\n\u001b[0;32m     42\u001b[0m         \u001b[0mlikes4\u001b[0m\u001b[1;33m.\u001b[0m\u001b[0mappend\u001b[0m\u001b[1;33m(\u001b[0m\u001b[0mmusic_type\u001b[0m\u001b[1;33m)\u001b[0m\u001b[1;33m\u001b[0m\u001b[0m\n\u001b[0;32m     43\u001b[0m \u001b[1;33m\u001b[0m\u001b[0m\n\u001b[1;32m---> 44\u001b[1;33m \u001b[0mprofile_setup\u001b[0m\u001b[1;33m(\u001b[0m\u001b[0mcurrent_username\u001b[0m\u001b[1;33m)\u001b[0m\u001b[1;33m\u001b[0m\u001b[0m\n\u001b[0m",
      "\u001b[1;32m<ipython-input-11-abf451140202>\u001b[0m in \u001b[0;36mprofile_setup\u001b[1;34m(current_username)\u001b[0m\n\u001b[0;32m      9\u001b[0m     \u001b[0mmusic_likes\u001b[0m \u001b[1;33m=\u001b[0m \u001b[0mraw_input\u001b[0m\u001b[1;33m(\u001b[0m\u001b[1;34m\"What kinds of music do you like?\"\u001b[0m\u001b[1;33m)\u001b[0m\u001b[1;33m\u001b[0m\u001b[0m\n\u001b[0;32m     10\u001b[0m     \u001b[1;32mif\u001b[0m \u001b[1;34m\"pop\"\u001b[0m \u001b[1;32min\u001b[0m \u001b[0mmusic_likes\u001b[0m\u001b[1;33m.\u001b[0m\u001b[0mlower\u001b[0m\u001b[1;33m(\u001b[0m\u001b[1;33m)\u001b[0m\u001b[1;33m:\u001b[0m\u001b[1;33m\u001b[0m\u001b[0m\n\u001b[1;32m---> 11\u001b[1;33m         \u001b[0madd_to_likes\u001b[0m\u001b[1;33m(\u001b[0m\u001b[1;34m\"pop\"\u001b[0m\u001b[1;33m,\u001b[0m \u001b[0mfiller\u001b[0m\u001b[1;33m)\u001b[0m\u001b[1;33m\u001b[0m\u001b[0m\n\u001b[0m\u001b[0;32m     12\u001b[0m     \u001b[1;32melif\u001b[0m \u001b[1;34m\"rock\"\u001b[0m \u001b[1;32min\u001b[0m \u001b[0mmusic_likes\u001b[0m\u001b[1;33m.\u001b[0m\u001b[0mlower\u001b[0m\u001b[1;33m(\u001b[0m\u001b[1;33m)\u001b[0m\u001b[1;33m:\u001b[0m\u001b[1;33m\u001b[0m\u001b[0m\n\u001b[0;32m     13\u001b[0m         \u001b[0madd_to_likes\u001b[0m\u001b[1;33m(\u001b[0m\u001b[1;34m\"rock\"\u001b[0m\u001b[1;33m,\u001b[0m \u001b[0mfiller\u001b[0m\u001b[1;33m)\u001b[0m\u001b[1;33m\u001b[0m\u001b[0m\n",
      "\u001b[1;32m<ipython-input-11-abf451140202>\u001b[0m in \u001b[0;36madd_to_likes\u001b[1;34m(music_type, current_username)\u001b[0m\n\u001b[0;32m     35\u001b[0m     \u001b[1;32mif\u001b[0m \u001b[0mcurrent_username\u001b[0m \u001b[1;33m==\u001b[0m \u001b[0musername1\u001b[0m\u001b[1;33m:\u001b[0m\u001b[1;33m\u001b[0m\u001b[0m\n\u001b[0;32m     36\u001b[0m         \u001b[0mlikes1\u001b[0m\u001b[1;33m.\u001b[0m\u001b[0mappend\u001b[0m\u001b[1;33m(\u001b[0m\u001b[0mmusic_type\u001b[0m\u001b[1;33m)\u001b[0m\u001b[1;33m\u001b[0m\u001b[0m\n\u001b[1;32m---> 37\u001b[1;33m     \u001b[1;32mif\u001b[0m \u001b[0mcurrent_username\u001b[0m \u001b[1;33m==\u001b[0m \u001b[0musername2\u001b[0m\u001b[1;33m:\u001b[0m\u001b[1;33m\u001b[0m\u001b[0m\n\u001b[0m\u001b[0;32m     38\u001b[0m         \u001b[0mlikes2\u001b[0m\u001b[1;33m.\u001b[0m\u001b[0mappend\u001b[0m\u001b[1;33m(\u001b[0m\u001b[0mmusic_type\u001b[0m\u001b[1;33m)\u001b[0m\u001b[1;33m\u001b[0m\u001b[0m\n\u001b[0;32m     39\u001b[0m     \u001b[1;32mif\u001b[0m \u001b[0mcurrent_username\u001b[0m \u001b[1;33m==\u001b[0m \u001b[0musername3\u001b[0m\u001b[1;33m:\u001b[0m\u001b[1;33m\u001b[0m\u001b[0m\n",
      "\u001b[1;31mNameError\u001b[0m: global name 'username2' is not defined"
     ]
    }
   ],
   "source": [
    "from __future__ import print_function\n",
    "\n",
    "username1 = \"finalcsp\"\n",
    "filler = username1\n",
    "\n",
    "def profile_setup(current_username):\n",
    "    \n",
    "    print(\"Available genres: \\n Pop \\n Rock \\n Dance \\n Country \\n Rap \\n Classical\")\n",
    "    music_likes = raw_input(\"What kinds of music do you like?\")\n",
    "    if \"pop\" in music_likes.lower():\n",
    "        add_to_likes(\"pop\", filler)\n",
    "    elif \"rock\" in music_likes.lower():\n",
    "        add_to_likes(\"rock\", filler)\n",
    "    elif \"dance\" in music_likes.lower():\n",
    "        add_to_likes(\"dance\", filler)\n",
    "    elif \"country\" in music_likes.lower():\n",
    "        add_to_likes(\"country\", filler)\n",
    "    elif \"rap\" in music_likes.lower():\n",
    "        add_to_likes(\"rap\", filler)\n",
    "    elif \"classical\" in music_likes.lower():\n",
    "        add_to_likes(\"classical\", filler)\n",
    "    elif \"hip\" in music_likes.lower() and \"hop\" in music_likes.lower():\n",
    "        add_to_likes(\"hip hop\", filler)\n",
    "    name_entry = raw_input(\"What do you want your name to be?\")\n",
    "    if current_username == username1:\n",
    "        profile1[1] = name_entry\n",
    "    elif current_username == username2:\n",
    "        profile2[1] = name_entry\n",
    "    elif current_username == username3:\n",
    "        profile3[1] = name_entry        \n",
    "    elif current_username == username4:\n",
    "        profile4[1] = name_entry    \n",
    "    \n",
    "def add_to_likes(music_type, current_username):\n",
    "    if current_username == username1:\n",
    "        likes1.append(music_type)\n",
    "    if current_username == username2:\n",
    "        likes2.append(music_type)\n",
    "    if current_username == username3:\n",
    "        likes3.append(music_type)\n",
    "    if current_username == username4:\n",
    "        likes4.append(music_type)\n",
    "        \n",
    "profile_setup(current_username)"
   ]
  },
  {
   "cell_type": "code",
   "execution_count": 7,
   "metadata": {},
   "outputs": [
    {
     "ename": "TypeError",
     "evalue": "'int' object has no attribute '__getitem__'",
     "output_type": "error",
     "traceback": [
      "\u001b[1;31m\u001b[0m",
      "\u001b[1;31mTypeError\u001b[0mTraceback (most recent call last)",
      "\u001b[1;32m<ipython-input-7-8e89050ad1f1>\u001b[0m in \u001b[0;36m<module>\u001b[1;34m()\u001b[0m\n\u001b[0;32m     20\u001b[0m     \u001b[0mwebbrowser\u001b[0m\u001b[1;33m.\u001b[0m\u001b[0mopen\u001b[0m\u001b[1;33m(\u001b[0m\u001b[0mlikes\u001b[0m\u001b[1;33m[\u001b[0m\u001b[0mrandom\u001b[0m\u001b[1;33m.\u001b[0m\u001b[0mrandint\u001b[0m\u001b[1;33m(\u001b[0m\u001b[1;36m0\u001b[0m\u001b[1;33m,\u001b[0m\u001b[0mlen\u001b[0m\u001b[1;33m(\u001b[0m\u001b[0mlikes\u001b[0m\u001b[1;33m)\u001b[0m\u001b[1;33m)\u001b[0m\u001b[1;33m[\u001b[0m\u001b[0mrandom\u001b[0m\u001b[1;33m.\u001b[0m\u001b[0mrandint\u001b[0m\u001b[1;33m(\u001b[0m\u001b[1;36m0\u001b[0m\u001b[1;33m,\u001b[0m\u001b[1;36m3\u001b[0m\u001b[1;33m)\u001b[0m\u001b[1;33m]\u001b[0m\u001b[1;33m]\u001b[0m\u001b[1;33m)\u001b[0m\u001b[1;33m\u001b[0m\u001b[0m\n\u001b[0;32m     21\u001b[0m \u001b[1;33m\u001b[0m\u001b[0m\n\u001b[1;32m---> 22\u001b[1;33m \u001b[0mplay_music\u001b[0m\u001b[1;33m(\u001b[0m\u001b[0musername1\u001b[0m\u001b[1;33m)\u001b[0m\u001b[1;33m\u001b[0m\u001b[0m\n\u001b[0m",
      "\u001b[1;32m<ipython-input-7-8e89050ad1f1>\u001b[0m in \u001b[0;36mplay_music\u001b[1;34m(current_username)\u001b[0m\n\u001b[0;32m     18\u001b[0m         \u001b[0mlogin\u001b[0m\u001b[1;33m(\u001b[0m\u001b[1;33m)\u001b[0m\u001b[1;33m\u001b[0m\u001b[0m\n\u001b[0;32m     19\u001b[0m \u001b[1;33m\u001b[0m\u001b[0m\n\u001b[1;32m---> 20\u001b[1;33m     \u001b[0mwebbrowser\u001b[0m\u001b[1;33m.\u001b[0m\u001b[0mopen\u001b[0m\u001b[1;33m(\u001b[0m\u001b[0mlikes\u001b[0m\u001b[1;33m[\u001b[0m\u001b[0mrandom\u001b[0m\u001b[1;33m.\u001b[0m\u001b[0mrandint\u001b[0m\u001b[1;33m(\u001b[0m\u001b[1;36m0\u001b[0m\u001b[1;33m,\u001b[0m\u001b[0mlen\u001b[0m\u001b[1;33m(\u001b[0m\u001b[0mlikes\u001b[0m\u001b[1;33m)\u001b[0m\u001b[1;33m)\u001b[0m\u001b[1;33m[\u001b[0m\u001b[0mrandom\u001b[0m\u001b[1;33m.\u001b[0m\u001b[0mrandint\u001b[0m\u001b[1;33m(\u001b[0m\u001b[1;36m0\u001b[0m\u001b[1;33m,\u001b[0m\u001b[1;36m3\u001b[0m\u001b[1;33m)\u001b[0m\u001b[1;33m]\u001b[0m\u001b[1;33m]\u001b[0m\u001b[1;33m)\u001b[0m\u001b[1;33m\u001b[0m\u001b[0m\n\u001b[0m\u001b[0;32m     21\u001b[0m \u001b[1;33m\u001b[0m\u001b[0m\n\u001b[0;32m     22\u001b[0m \u001b[0mplay_music\u001b[0m\u001b[1;33m(\u001b[0m\u001b[0musername1\u001b[0m\u001b[1;33m)\u001b[0m\u001b[1;33m\u001b[0m\u001b[0m\n",
      "\u001b[1;31mTypeError\u001b[0m: 'int' object has no attribute '__getitem__'"
     ]
    }
   ],
   "source": [
    "import webbrowser\n",
    "import random\n",
    "\n",
    "username1 = \"finalcsp\"\n",
    "likes1 = [dance, country, classical]\n",
    "\n",
    "def play_music(current_username):\n",
    "    \n",
    "    if current_username == username1:\n",
    "        likes = likes1\n",
    "    elif current_username == username2:\n",
    "        likes = likes2\n",
    "    elif current_username == username3:\n",
    "        likes = likes3\n",
    "    elif current_username == username4:\n",
    "        likes = likes4\n",
    "    else:\n",
    "        login()\n",
    "    \n",
    "    webbrowser.open(likes[random.randint(0,likes.len())[random.randint(0,3)]])\n",
    "    \n",
    "play_music(username1)"
   ]
  },
  {
   "cell_type": "code",
   "execution_count": 1,
   "metadata": {},
   "outputs": [
    {
     "data": {
      "text/plain": [
       "True"
      ]
     },
     "execution_count": 1,
     "metadata": {},
     "output_type": "execute_result"
    }
   ],
   "source": [
    "#Song lists\n",
    "#Country: Body like a back road, Meant to be, Marry me, You make it easy\n",
    "country = [\"https://www.youtube.com/watch?v=Mdh2p03cRfw\", \"https://www.youtube.com/watch?v=zDo0H8Fm7d0\", \"https://www.youtube.com/watch?v=p_IwENcMPOA\", \"https://www.youtube.com/watch?v=jLCHpZ6B1gU\"]\n",
    "\n",
    "#Classical: 6 hours of Mozart, Ode to joy Beethoven, Vivaldi Four seasons, Canon in D Soothing Pachelbell\n",
    "classical = [\"https://www.youtube.com/watch?v=shoVsQhou-8\", \"https://www.youtube.com/watch?v=-kcOpyM9cBg\", \"https://www.youtube.com/watch?v=GRxofEmo3HA\", \"https://www.youtube.com/watch?v=hOA-2hl1Vbc\"]\n",
    "\n",
    "#Dance: Silence marshmello, Stay zedd, Spectre alan walker, Roses chainsmokers\n",
    "dance = [\"https://www.youtube.com/watch?v=MbT_grBSt38\", \"https://www.youtube.com/watch?v=h--P8HzYZ74\", \"https://www.youtube.com/watch?v=aVtO8uQrPXc\", \"https://www.youtube.com/watch?v=fOSpFf6wTBk\"]\n",
    "\n"
   ]
  }
 ],
 "metadata": {
  "kernelspec": {
   "display_name": "Python 2",
   "language": "python",
   "name": "python2"
  },
  "language_info": {
   "codemirror_mode": {
    "name": "ipython",
    "version": 2
   },
   "file_extension": ".py",
   "mimetype": "text/x-python",
   "name": "python",
   "nbconvert_exporter": "python",
   "pygments_lexer": "ipython2",
   "version": "2.7.13"
  }
 },
 "nbformat": 4,
 "nbformat_minor": 2
}
