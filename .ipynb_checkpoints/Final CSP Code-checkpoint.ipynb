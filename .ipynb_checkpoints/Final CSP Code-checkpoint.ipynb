{
 "cells": [
  {
   "cell_type": "code",
   "execution_count": null,
   "metadata": {
    "collapsed": true
   },
   "outputs": [],
   "source": [
    "#Install box\n",
    "#This box will install anything that needs installing"
   ]
  },
  {
   "cell_type": "code",
   "execution_count": 13,
   "metadata": {
    "collapsed": true
   },
   "outputs": [],
   "source": []
  },
  {
   "cell_type": "code",
   "execution_count": 18,
   "metadata": {},
   "outputs": [
    {
     "name": "stdout",
     "output_type": "stream",
     "text": [
      "Username:finalcsp\n",
      "Password:password\n",
      "Confirm password:password\n",
      "Signup successful! Welcome \n",
      " finalcsp\n",
      "Set up your profile!\n",
      "Available genres: \n",
      " Pop \n",
      " Rock \n",
      " Dance \n",
      " Country \n",
      " Rap \n",
      " Classical\n",
      "What kinds of music do you like?dance country classical\n"
     ]
    },
    {
     "ename": "NameError",
     "evalue": "global name 'current_username' is not defined",
     "output_type": "error",
     "traceback": [
      "\u001b[1;31m\u001b[0m",
      "\u001b[1;31mNameError\u001b[0mTraceback (most recent call last)",
      "\u001b[1;32m<ipython-input-18-4534cfce959b>\u001b[0m in \u001b[0;36m<module>\u001b[1;34m()\u001b[0m\n\u001b[0;32m    101\u001b[0m         \u001b[0mlikes4\u001b[0m\u001b[1;33m.\u001b[0m\u001b[0mappend\u001b[0m\u001b[1;33m(\u001b[0m\u001b[0mmusic_type\u001b[0m\u001b[1;33m)\u001b[0m\u001b[1;33m\u001b[0m\u001b[0m\n\u001b[0;32m    102\u001b[0m \u001b[1;33m\u001b[0m\u001b[0m\n\u001b[1;32m--> 103\u001b[1;33m \u001b[0msignup\u001b[0m\u001b[1;33m(\u001b[0m\u001b[1;33m)\u001b[0m\u001b[1;33m\u001b[0m\u001b[0m\n\u001b[0m",
      "\u001b[1;32m<ipython-input-18-4534cfce959b>\u001b[0m in \u001b[0;36msignup\u001b[1;34m()\u001b[0m\n\u001b[0;32m     50\u001b[0m         \u001b[1;32mprint\u001b[0m\u001b[1;33m(\u001b[0m\u001b[1;34m\"Signup successful! Welcome \\n\"\u001b[0m\u001b[1;33m,\u001b[0m\u001b[0mcurrent_username\u001b[0m\u001b[1;33m)\u001b[0m\u001b[1;33m\u001b[0m\u001b[0m\n\u001b[0;32m     51\u001b[0m         \u001b[1;32mprint\u001b[0m\u001b[1;33m(\u001b[0m\u001b[1;34m\"Set up your profile!\"\u001b[0m\u001b[1;33m)\u001b[0m\u001b[1;33m\u001b[0m\u001b[0m\n\u001b[1;32m---> 52\u001b[1;33m         \u001b[0mprofile_setup\u001b[0m\u001b[1;33m(\u001b[0m\u001b[0mcurrent_username\u001b[0m\u001b[1;33m)\u001b[0m\u001b[1;33m\u001b[0m\u001b[0m\n\u001b[0m\u001b[0;32m     53\u001b[0m     \u001b[1;32melse\u001b[0m\u001b[1;33m:\u001b[0m\u001b[1;33m\u001b[0m\u001b[0m\n\u001b[0;32m     54\u001b[0m         \u001b[1;32mprint\u001b[0m\u001b[1;33m(\u001b[0m\u001b[1;34m\"Passwords invalid. Please try again\"\u001b[0m\u001b[1;33m)\u001b[0m\u001b[1;33m\u001b[0m\u001b[0m\n",
      "\u001b[1;32m<ipython-input-18-4534cfce959b>\u001b[0m in \u001b[0;36mprofile_setup\u001b[1;34m(user)\u001b[0m\n\u001b[0;32m     72\u001b[0m         \u001b[0madd_to_likes\u001b[0m\u001b[1;33m(\u001b[0m\u001b[1;34m\"rock\"\u001b[0m\u001b[1;33m,\u001b[0m \u001b[0mcurrent_username\u001b[0m\u001b[1;33m)\u001b[0m\u001b[1;33m\u001b[0m\u001b[0m\n\u001b[0;32m     73\u001b[0m     \u001b[1;32melif\u001b[0m \u001b[1;34m\"dance\"\u001b[0m \u001b[1;32min\u001b[0m \u001b[0mmusic_likes\u001b[0m\u001b[1;33m.\u001b[0m\u001b[0mlower\u001b[0m\u001b[1;33m(\u001b[0m\u001b[1;33m)\u001b[0m\u001b[1;33m:\u001b[0m\u001b[1;33m\u001b[0m\u001b[0m\n\u001b[1;32m---> 74\u001b[1;33m         \u001b[0madd_to_likes\u001b[0m\u001b[1;33m(\u001b[0m\u001b[1;34m\"dance\"\u001b[0m\u001b[1;33m,\u001b[0m \u001b[0mcurrent_username\u001b[0m\u001b[1;33m)\u001b[0m\u001b[1;33m\u001b[0m\u001b[0m\n\u001b[0m\u001b[0;32m     75\u001b[0m     \u001b[1;32melif\u001b[0m \u001b[1;34m\"country\"\u001b[0m \u001b[1;32min\u001b[0m \u001b[0mmusic_likes\u001b[0m\u001b[1;33m.\u001b[0m\u001b[0mlower\u001b[0m\u001b[1;33m(\u001b[0m\u001b[1;33m)\u001b[0m\u001b[1;33m:\u001b[0m\u001b[1;33m\u001b[0m\u001b[0m\n\u001b[0;32m     76\u001b[0m         \u001b[0madd_to_likes\u001b[0m\u001b[1;33m(\u001b[0m\u001b[1;34m\"country\"\u001b[0m\u001b[1;33m,\u001b[0m \u001b[0mcurrent_username\u001b[0m\u001b[1;33m)\u001b[0m\u001b[1;33m\u001b[0m\u001b[0m\n",
      "\u001b[1;31mNameError\u001b[0m: global name 'current_username' is not defined"
     ]
    }
   ],
   "source": [
    "#Username and password box\n",
    "#This box will be used for identifying users and their accounts\n",
    "from __future__ import print_function\n",
    "\n",
    "username_entry = \"nothing\"\n",
    "password_entry1 = \"nothing\"\n",
    "password_entry2 = \"nothing\"\n",
    "\n",
    "password1 = \"nothing\"\n",
    "password2 = \"nothing\"\n",
    "password3 = \"nothing\"\n",
    "password4 = \"nothing\"\n",
    "\n",
    "profile1 = [\"nothing\"]\n",
    "profile2 = [\"nothing\"]\n",
    "profile3 = [\"nothing\"]\n",
    "profile4 = [\"nothing\"]\n",
    "\n",
    "likes1 = []\n",
    "likes2 = []\n",
    "likes3 = []\n",
    "likes4 = []\n",
    "\n",
    "def signup():\n",
    "    username_entry = raw_input(\"Username:\")\n",
    "    password_entry1 = raw_input(\"Password:\")\n",
    "    password_entry2 = raw_input(\"Confirm password:\")\n",
    "    if password_entry1 == password_entry2:\n",
    "        if profile1[0] != \"nothing\":\n",
    "            if profile2[0] != \"nothing\":\n",
    "                if profile3[0] != \"nothing\":\n",
    "                    if profile4[0] == \"nothing\":\n",
    "                        username4 = username_entry\n",
    "                        password4 = password_entry1\n",
    "                        profile4.append(username_entry)\n",
    "                else:\n",
    "                    username3 = username_entry\n",
    "                    password3 = password_entry1\n",
    "                    profile3.append(username_entry)\n",
    "            else:\n",
    "                username2 = username_entry\n",
    "                password2 = password_entry1\n",
    "                profile2.append(username_entry)\n",
    "        else:\n",
    "            username1 = username_entry\n",
    "            password1 = password_entry1\n",
    "            profile1.append(username_entry)\n",
    "        \n",
    "        current_username = username_entry\n",
    "        print(\"Signup successful! Welcome \\n\",current_username)\n",
    "        print(\"Set up your profile!\")   \n",
    "        profile_setup(current_username)\n",
    "    else:\n",
    "        print(\"Passwords invalid. Please try again\")\n",
    "        signup()\n",
    "\n",
    "def login():\n",
    "    entry_username = raw_input(\"Username:\")\n",
    "    entry_password = raw_input(\"Password:\")\n",
    "    if entry_username == username1 and entry_password == password1:\n",
    "        print(\"Welcome \" + username1)\n",
    "    if entry_username == username2 and entry_password == password2:\n",
    "        print(\"Welcome \" + username2)    \n",
    "        \n",
    "def profile_setup(current_username):\n",
    "    \n",
    "    print(\"Available genres: \\n Pop \\n Rock \\n Dance \\n Country \\n Rap \\n Classical\")\n",
    "    music_likes = raw_input(\"What kinds of music do you like?\")\n",
    "    if \"pop\" in music_likes.lower():\n",
    "        add_to_likes(\"pop\", current_username)\n",
    "    elif \"rock\" in music_likes.lower():\n",
    "        add_to_likes(\"rock\", current_username)\n",
    "    elif \"dance\" in music_likes.lower():\n",
    "        add_to_likes(\"dance\", current_username)\n",
    "    elif \"country\" in music_likes.lower():\n",
    "        add_to_likes(\"country\", current_username)\n",
    "    elif \"rap\" in music_likes.lower():\n",
    "        add_to_likes(\"rap\", current_username)\n",
    "    elif \"classical\" in music_likes.lower():\n",
    "        add_to_likes(\"classical\", current_username)\n",
    "    elif \"hip\" in music_likes.lower() and \"hop\" in music_likes.lower():\n",
    "        add_to_likes(\"hip hop\", current_username)\n",
    "    \n",
    "    if current_username == username1:\n",
    "        profile1[1] = raw_input(\"What do you want your name to be?\")\n",
    "    elif current_username == username2:\n",
    "        profile2[1] = raw_input(\"What do you want your name to be?\")\n",
    "    elif current_username == username3:\n",
    "        profile3[1] = raw_input(\"What do you want your name to be?\")        \n",
    "    elif current_username == username4:\n",
    "        profile4[1] = raw_input(\"What do you want your name to be?\") \n",
    "    \n",
    "def add_to_likes(music_type, user):\n",
    "    if current_username == username1:\n",
    "        likes1.append(music_type)\n",
    "    if current_username == username2:\n",
    "        likes2.append(music_type)\n",
    "    if current_username == username3:\n",
    "        likes3.append(music_type)\n",
    "    if current_username == username4:\n",
    "        likes4.append(music_type)\n",
    "            \n",
    "signup()"
   ]
  },
  {
   "cell_type": "code",
   "execution_count": 10,
   "metadata": {},
   "outputs": [
    {
     "ename": "NameError",
     "evalue": "name 'current_username' is not defined",
     "output_type": "error",
     "traceback": [
      "\u001b[1;31m\u001b[0m",
      "\u001b[1;31mNameError\u001b[0mTraceback (most recent call last)",
      "\u001b[1;32m<ipython-input-10-f44cea1e83b6>\u001b[0m in \u001b[0;36m<module>\u001b[1;34m()\u001b[0m\n\u001b[0;32m     42\u001b[0m         \u001b[0mlikes4\u001b[0m\u001b[1;33m.\u001b[0m\u001b[0mappend\u001b[0m\u001b[1;33m(\u001b[0m\u001b[0mmusic_type\u001b[0m\u001b[1;33m)\u001b[0m\u001b[1;33m\u001b[0m\u001b[0m\n\u001b[0;32m     43\u001b[0m \u001b[1;33m\u001b[0m\u001b[0m\n\u001b[1;32m---> 44\u001b[1;33m \u001b[0mprofile_setup\u001b[0m\u001b[1;33m(\u001b[0m\u001b[0mcurrent_username\u001b[0m\u001b[1;33m)\u001b[0m\u001b[1;33m\u001b[0m\u001b[0m\n\u001b[0m",
      "\u001b[1;31mNameError\u001b[0m: name 'current_username' is not defined"
     ]
    }
   ],
   "source": [
    "from __future__ import print_function\n",
    "\n",
    "username1 = \"finalcsp\"\n",
    "filler = username1\n",
    "\n",
    "def profile_setup(current_username):\n",
    "    \n",
    "    print(\"Available genres: \\n Pop \\n Rock \\n Dance \\n Country \\n Rap \\n Classical\")\n",
    "    music_likes = raw_input(\"What kinds of music do you like?\")\n",
    "    if \"pop\" in music_likes.lower():\n",
    "        add_to_likes(\"pop\", current_username)\n",
    "    elif \"rock\" in music_likes.lower():\n",
    "        add_to_likes(\"rock\", current_username)\n",
    "    elif \"dance\" in music_likes.lower():\n",
    "        add_to_likes(\"dance\", current_username)\n",
    "    elif \"country\" in music_likes.lower():\n",
    "        add_to_likes(\"country\", current_username)\n",
    "    elif \"rap\" in music_likes.lower():\n",
    "        add_to_likes(\"rap\", current_username)\n",
    "    elif \"classical\" in music_likes.lower():\n",
    "        add_to_likes(\"classical\", current_username)\n",
    "    elif \"hip\" in music_likes.lower() and \"hop\" in music_likes.lower():\n",
    "        add_to_likes(\"hip hop\", current_username)\n",
    "    \n",
    "    if current_username == username1:\n",
    "        profile1[1] = raw_input(\"What do you want your name to be?\")\n",
    "    elif current_username == username2:\n",
    "        profile2[1] = raw_input(\"What do you want your name to be?\")\n",
    "    elif current_username == username3:\n",
    "        profile3[1] = raw_input(\"What do you want your name to be?\")        \n",
    "    elif current_username == username4:\n",
    "        profile4[1] = raw_input(\"What do you want your name to be?\") \n",
    "    \n",
    "def add_to_likes(music_type, user):\n",
    "    if current_username == username1:\n",
    "        likes1.append(music_type)\n",
    "    if current_username == username2:\n",
    "        likes2.append(music_type)\n",
    "    if current_username == username3:\n",
    "        likes3.append(music_type)\n",
    "    if current_username == username4:\n",
    "        likes4.append(music_type)\n",
    "        \n",
    "profile_setup(current_username)"
   ]
  },
  {
   "cell_type": "code",
   "execution_count": 8,
   "metadata": {
    "scrolled": true
   },
   "outputs": [
    {
     "ename": "SyntaxError",
     "evalue": "invalid syntax (<ipython-input-8-fb6081b671f0>, line 32)",
     "output_type": "error",
     "traceback": [
      "\u001b[1;36m  File \u001b[1;32m\"<ipython-input-8-fb6081b671f0>\"\u001b[1;36m, line \u001b[1;32m32\u001b[0m\n\u001b[1;33m    play_music(\"finalcsp\")\u001b[0m\n\u001b[1;37m             ^\u001b[0m\n\u001b[1;31mSyntaxError\u001b[0m\u001b[1;31m:\u001b[0m invalid syntax\n"
     ]
    }
   ],
   "source": [
    "import webbrowser\n",
    "import random\n",
    "\n",
    "#Song lists\n",
    "#Country: Body like a back road, Meant to be, Marry me, You make it easy\n",
    "country = [\"https://www.youtube.com/watch?v=Mdh2p03cRfw\", \"https://www.youtube.com/watch?v=zDo0H8Fm7d0\", \"https://www.youtube.com/watch?v=p_IwENcMPOA\", \"https://www.youtube.com/watch?v=jLCHpZ6B1gU\"]\n",
    "\n",
    "#Classical: 6 hours of Mozart, Ode to joy Beethoven, Vivaldi Four seasons, Canon in D Soothing Pachelbell\n",
    "classical = [\"https://www.youtube.com/watch?v=shoVsQhou-8\", \"https://www.youtube.com/watch?v=-kcOpyM9cBg\", \"https://www.youtube.com/watch?v=GRxofEmo3HA\", \"https://www.youtube.com/watch?v=hOA-2hl1Vbc\"]\n",
    "\n",
    "#Dance: Silence marshmello, Stay zedd, Spectre alan walker, Roses chainsmokers\n",
    "dance = [\"https://www.youtube.com/watch?v=MbT_grBSt38\", \"https://www.youtube.com/watch?v=h--P8HzYZ74\", \"https://www.youtube.com/watch?v=aVtO8uQrPXc\", \"https://www.youtube.com/watch?v=fOSpFf6wTBk\"]\n",
    "\n",
    "username1 = \"finalcsp\"\n",
    "likes1 = [dance, country, classical]\n",
    "\n",
    "def play_music(current_username):\n",
    "    \n",
    "    if current_username == username1:\n",
    "        likes = likes1\n",
    "    elif current_username == username2:\n",
    "        likes = likes2\n",
    "    elif current_username == username3:\n",
    "        likes = likes3\n",
    "    elif current_username == username4:\n",
    "        likes = likes4\n",
    "    else:\n",
    "        login()\n",
    "    \n",
    "    webbrowser.open(likes[random.randint(0,2[random.randint(0,3)])\n",
    "                          \n",
    "play_music(\"finalcsp\")"
   ]
  },
  {
   "cell_type": "code",
   "execution_count": 1,
   "metadata": {
    "scrolled": true
   },
   "outputs": [
    {
     "data": {
      "text/plain": [
       "True"
      ]
     },
     "execution_count": 1,
     "metadata": {},
     "output_type": "execute_result"
    }
   ],
   "source": []
  }
 ],
 "metadata": {
  "kernelspec": {
   "display_name": "Python 2",
   "language": "python",
   "name": "python2"
  },
  "language_info": {
   "codemirror_mode": {
    "name": "ipython",
    "version": 2
   },
   "file_extension": ".py",
   "mimetype": "text/x-python",
   "name": "python",
   "nbconvert_exporter": "python",
   "pygments_lexer": "ipython2",
   "version": "2.7.13"
  }
 },
 "nbformat": 4,
 "nbformat_minor": 2
}
