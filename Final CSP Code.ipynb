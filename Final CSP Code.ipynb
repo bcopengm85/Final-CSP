{
 "cells": [
  {
   "cell_type": "code",
   "execution_count": null,
   "metadata": {
    "collapsed": true
   },
   "outputs": [],
   "source": [
    "#Install box\n",
    "#This box will install anything that needs installing"
   ]
  },
  {
   "cell_type": "code",
   "execution_count": 3,
   "metadata": {},
   "outputs": [
    {
     "name": "stdout",
     "output_type": "stream",
     "text": [
      "Username:final_csp\n",
      "Password:CspPw0rd\n",
      "Confirm password:CspPw0rd\n",
      "Signup successful! Welcome nothing\n",
      "Set up your profile!\n"
     ]
    }
   ],
   "source": [
    "#Username and password box\n",
    "#This box will be used for identifying users and their accounts\n",
    "from __future__ import print_function\n",
    "\n",
    "username_entry = \"nothing\"\n",
    "password_entry1 = \"nothing\"\n",
    "password_entry2 = \"nothing\"\n",
    "\n",
    "username1 = \"nothing\"\n",
    "username2 = \"nothing\"\n",
    "username3 = \"nothing\"\n",
    "username4 = \"nothing\"\n",
    "\n",
    "password1 = \"nothing\"\n",
    "password2 = \"nothing\"\n",
    "password3 = \"nothing\"\n",
    "password4 = \"nothing\"\n",
    "\n",
    "def signup():\n",
    "    username_entry = raw_input(\"Username:\")\n",
    "    password_entry1 = raw_input(\"Password:\")\n",
    "    password_entry2 = raw_input(\"Confirm password:\")\n",
    "    if password_entry1 == password_entry2:\n",
    "        if username1 != \"nothing\":\n",
    "            if username2 != \"nothing\":\n",
    "                if username3 != \"nothing\":\n",
    "                    if username4 == \"nothing\":\n",
    "                        username_entry = username4\n",
    "                        passord_entry1 = password4\n",
    "                else:\n",
    "                    username_entry = username3\n",
    "                    password_entry1 = password3\n",
    "            else:\n",
    "                username_entry = username2\n",
    "                password_entry1 = password2\n",
    "        else:\n",
    "            username_entry = username1\n",
    "            password_entry1 = password1\n",
    "        \n",
    "        print(\"Signup successful! Welcome \" + username_entry)\n",
    "        print(\"Set up your profile!\")                    \n",
    "    \n",
    "\n",
    "def login():\n",
    "    entry_username = raw_input(\"Username:\")\n",
    "    \n",
    "signup()"
   ]
  }
 ],
 "metadata": {
  "kernelspec": {
   "display_name": "Python 2",
   "language": "python",
   "name": "python2"
  },
  "language_info": {
   "codemirror_mode": {
    "name": "ipython",
    "version": 2
   },
   "file_extension": ".py",
   "mimetype": "text/x-python",
   "name": "python",
   "nbconvert_exporter": "python",
   "pygments_lexer": "ipython2",
   "version": "2.7.13"
  }
 },
 "nbformat": 4,
 "nbformat_minor": 2
}
